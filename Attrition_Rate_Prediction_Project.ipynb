{
 "cells": [
  {
   "cell_type": "code",
   "execution_count": 1,
   "metadata": {},
   "outputs": [],
   "source": [
    "# Importing Libraries and models for future use\n",
    "\n",
    "import pandas as pd\n",
    "import numpy as np\n",
    "from sklearn.linear_model import LogisticRegression\n",
    "from sklearn.tree import DecisionTreeClassifier\n",
    "from sklearn.ensemble import AdaBoostClassifier\n",
    "from sklearn.neighbors import KNeighborsClassifier\n",
    "from sklearn.neural_network import MLPClassifier\n",
    "from catboost import CatBoostClassifier\n",
    "from sklearn.metrics import confusion_matrix\n",
    "from sklearn import preprocessing\n",
    "from sklearn import metrics"
   ]
  },
  {
   "cell_type": "code",
   "execution_count": 3,
   "metadata": {},
   "outputs": [
    {
     "data": {
      "text/html": [
       "<div>\n",
       "<style scoped>\n",
       "    .dataframe tbody tr th:only-of-type {\n",
       "        vertical-align: middle;\n",
       "    }\n",
       "\n",
       "    .dataframe tbody tr th {\n",
       "        vertical-align: top;\n",
       "    }\n",
       "\n",
       "    .dataframe thead th {\n",
       "        text-align: right;\n",
       "    }\n",
       "</style>\n",
       "<table border=\"1\" class=\"dataframe\">\n",
       "  <thead>\n",
       "    <tr style=\"text-align: right;\">\n",
       "      <th></th>\n",
       "      <th>Id</th>\n",
       "      <th>Age</th>\n",
       "      <th>Attrition</th>\n",
       "      <th>BusinessTravel</th>\n",
       "      <th>Department</th>\n",
       "      <th>DistanceFromHome</th>\n",
       "      <th>Education</th>\n",
       "      <th>EducationField</th>\n",
       "      <th>EmployeeNumber</th>\n",
       "      <th>EnvironmentSatisfaction</th>\n",
       "      <th>...</th>\n",
       "      <th>PerformanceRating</th>\n",
       "      <th>StockOptionLevel</th>\n",
       "      <th>TotalWorkingYears</th>\n",
       "      <th>TrainingTimesLastYear</th>\n",
       "      <th>YearsAtCompany</th>\n",
       "      <th>YearsInCurrentRole</th>\n",
       "      <th>YearsSinceLastPromotion</th>\n",
       "      <th>YearsWithCurrManager</th>\n",
       "      <th>CommunicationSkill</th>\n",
       "      <th>Behaviour</th>\n",
       "    </tr>\n",
       "  </thead>\n",
       "  <tbody>\n",
       "    <tr>\n",
       "      <th>0</th>\n",
       "      <td>1</td>\n",
       "      <td>30</td>\n",
       "      <td>0</td>\n",
       "      <td>Non-Travel</td>\n",
       "      <td>Research &amp; Development</td>\n",
       "      <td>2</td>\n",
       "      <td>3</td>\n",
       "      <td>Medical</td>\n",
       "      <td>571</td>\n",
       "      <td>3</td>\n",
       "      <td>...</td>\n",
       "      <td>3</td>\n",
       "      <td>0</td>\n",
       "      <td>12</td>\n",
       "      <td>2</td>\n",
       "      <td>11</td>\n",
       "      <td>7</td>\n",
       "      <td>6</td>\n",
       "      <td>7</td>\n",
       "      <td>4</td>\n",
       "      <td>1</td>\n",
       "    </tr>\n",
       "    <tr>\n",
       "      <th>1</th>\n",
       "      <td>2</td>\n",
       "      <td>36</td>\n",
       "      <td>0</td>\n",
       "      <td>Travel_Rarely</td>\n",
       "      <td>Research &amp; Development</td>\n",
       "      <td>12</td>\n",
       "      <td>4</td>\n",
       "      <td>Life Sciences</td>\n",
       "      <td>1614</td>\n",
       "      <td>3</td>\n",
       "      <td>...</td>\n",
       "      <td>3</td>\n",
       "      <td>2</td>\n",
       "      <td>7</td>\n",
       "      <td>2</td>\n",
       "      <td>3</td>\n",
       "      <td>2</td>\n",
       "      <td>1</td>\n",
       "      <td>1</td>\n",
       "      <td>2</td>\n",
       "      <td>1</td>\n",
       "    </tr>\n",
       "    <tr>\n",
       "      <th>2</th>\n",
       "      <td>3</td>\n",
       "      <td>55</td>\n",
       "      <td>1</td>\n",
       "      <td>Travel_Rarely</td>\n",
       "      <td>Sales</td>\n",
       "      <td>2</td>\n",
       "      <td>1</td>\n",
       "      <td>Medical</td>\n",
       "      <td>842</td>\n",
       "      <td>3</td>\n",
       "      <td>...</td>\n",
       "      <td>3</td>\n",
       "      <td>0</td>\n",
       "      <td>12</td>\n",
       "      <td>3</td>\n",
       "      <td>9</td>\n",
       "      <td>7</td>\n",
       "      <td>7</td>\n",
       "      <td>3</td>\n",
       "      <td>5</td>\n",
       "      <td>1</td>\n",
       "    </tr>\n",
       "    <tr>\n",
       "      <th>3</th>\n",
       "      <td>4</td>\n",
       "      <td>39</td>\n",
       "      <td>0</td>\n",
       "      <td>Travel_Rarely</td>\n",
       "      <td>Research &amp; Development</td>\n",
       "      <td>24</td>\n",
       "      <td>1</td>\n",
       "      <td>Life Sciences</td>\n",
       "      <td>2014</td>\n",
       "      <td>1</td>\n",
       "      <td>...</td>\n",
       "      <td>3</td>\n",
       "      <td>0</td>\n",
       "      <td>18</td>\n",
       "      <td>2</td>\n",
       "      <td>7</td>\n",
       "      <td>7</td>\n",
       "      <td>1</td>\n",
       "      <td>7</td>\n",
       "      <td>4</td>\n",
       "      <td>1</td>\n",
       "    </tr>\n",
       "    <tr>\n",
       "      <th>4</th>\n",
       "      <td>5</td>\n",
       "      <td>37</td>\n",
       "      <td>0</td>\n",
       "      <td>Travel_Rarely</td>\n",
       "      <td>Research &amp; Development</td>\n",
       "      <td>3</td>\n",
       "      <td>3</td>\n",
       "      <td>Other</td>\n",
       "      <td>689</td>\n",
       "      <td>3</td>\n",
       "      <td>...</td>\n",
       "      <td>3</td>\n",
       "      <td>1</td>\n",
       "      <td>10</td>\n",
       "      <td>2</td>\n",
       "      <td>10</td>\n",
       "      <td>7</td>\n",
       "      <td>7</td>\n",
       "      <td>8</td>\n",
       "      <td>1</td>\n",
       "      <td>1</td>\n",
       "    </tr>\n",
       "  </tbody>\n",
       "</table>\n",
       "<p>5 rows × 29 columns</p>\n",
       "</div>"
      ],
      "text/plain": [
       "   Id  Age  Attrition BusinessTravel              Department  \\\n",
       "0   1   30          0     Non-Travel  Research & Development   \n",
       "1   2   36          0  Travel_Rarely  Research & Development   \n",
       "2   3   55          1  Travel_Rarely                   Sales   \n",
       "3   4   39          0  Travel_Rarely  Research & Development   \n",
       "4   5   37          0  Travel_Rarely  Research & Development   \n",
       "\n",
       "   DistanceFromHome  Education EducationField  EmployeeNumber  \\\n",
       "0                 2          3        Medical             571   \n",
       "1                12          4  Life Sciences            1614   \n",
       "2                 2          1        Medical             842   \n",
       "3                24          1  Life Sciences            2014   \n",
       "4                 3          3          Other             689   \n",
       "\n",
       "   EnvironmentSatisfaction  ... PerformanceRating  StockOptionLevel  \\\n",
       "0                        3  ...                 3                 0   \n",
       "1                        3  ...                 3                 2   \n",
       "2                        3  ...                 3                 0   \n",
       "3                        1  ...                 3                 0   \n",
       "4                        3  ...                 3                 1   \n",
       "\n",
       "  TotalWorkingYears  TrainingTimesLastYear YearsAtCompany  YearsInCurrentRole  \\\n",
       "0                12                      2             11                   7   \n",
       "1                 7                      2              3                   2   \n",
       "2                12                      3              9                   7   \n",
       "3                18                      2              7                   7   \n",
       "4                10                      2             10                   7   \n",
       "\n",
       "   YearsSinceLastPromotion YearsWithCurrManager  CommunicationSkill  Behaviour  \n",
       "0                        6                    7                   4          1  \n",
       "1                        1                    1                   2          1  \n",
       "2                        7                    3                   5          1  \n",
       "3                        1                    7                   4          1  \n",
       "4                        7                    8                   1          1  \n",
       "\n",
       "[5 rows x 29 columns]"
      ]
     },
     "execution_count": 3,
     "metadata": {},
     "output_type": "execute_result"
    }
   ],
   "source": [
    "# Import the train and test data\n",
    "\n",
    "train_df = pd.read_csv(\"train_compete.csv\") \n",
    "X_test = pd.read_csv(\"test_compete.csv\")\n",
    "\n",
    "train_df.head()"
   ]
  },
  {
   "cell_type": "code",
   "execution_count": 5,
   "metadata": {},
   "outputs": [],
   "source": [
    "# Drop the columns using Feature Engineering which we will see in later steps\n",
    "\n",
    "X = train_df.drop(['Attrition','Id','EmployeeNumber','Behaviour'],axis = 1)\n",
    "Y = train_df['Attrition']\n",
    "X_test_N = X_test.drop(['Id','EmployeeNumber','Behaviour'],axis = 1)"
   ]
  },
  {
   "cell_type": "code",
   "execution_count": 6,
   "metadata": {},
   "outputs": [
    {
     "name": "stdout",
     "output_type": "stream",
     "text": [
      "Categorical variables:\n",
      "['BusinessTravel', 'Department', 'EducationField', 'Gender', 'JobRole', 'MaritalStatus', 'OverTime']\n"
     ]
    }
   ],
   "source": [
    "# Find object columns so as to transform or encode them in order to apply ML models on the data\n",
    "\n",
    "s = (X.dtypes == 'object')\n",
    "object_cols = list(s[s].index)\n",
    "\n",
    "print(\"Categorical variables:\")\n",
    "print(object_cols)"
   ]
  },
  {
   "cell_type": "code",
   "execution_count": 7,
   "metadata": {},
   "outputs": [],
   "source": [
    "# Break off validation set from training data\n",
    "\n",
    "from sklearn.model_selection import train_test_split\n",
    "X_train, X_valid, y_train, y_valid = train_test_split(X, Y,\n",
    "                                                      train_size=0.8, test_size=0.2,\n",
    "                                                      random_state=0)"
   ]
  },
  {
   "cell_type": "code",
   "execution_count": 8,
   "metadata": {},
   "outputs": [],
   "source": [
    "from sklearn.preprocessing import LabelEncoder\n",
    "\n",
    "# Make copy to avoid changing original data \n",
    "label_X_train = X_train.copy()\n",
    "label_X_valid = X_valid.copy()\n",
    "label_X_test = X_test_N.copy()\n",
    "\n",
    "# Apply label encoder to each column with categorical data\n",
    "label_encoder = LabelEncoder()\n",
    "for col in object_cols:\n",
    "    label_X_train[col] = label_encoder.fit_transform(X_train[col])\n",
    "    label_X_valid[col] = label_encoder.transform(X_valid[col])\n",
    "    label_X_test[col] = label_encoder.transform(X_test_N[col])  "
   ]
  },
  {
   "cell_type": "code",
   "execution_count": 9,
   "metadata": {},
   "outputs": [],
   "source": [
    "# Apply MinMax Scalar to all features so as to tune the variables in similar scale\n",
    "# This step helps in improving the model results and better fit model to the data given\n",
    "\n",
    "min_max_scaler = preprocessing.MinMaxScaler(feature_range=(0, 1))\n",
    "X_train_minmax = min_max_scaler.fit_transform(label_X_train)\n",
    "X_valid_minmax = min_max_scaler.transform(label_X_valid)\n",
    "X_test_minmax = min_max_scaler.transform(label_X_test)"
   ]
  },
  {
   "cell_type": "code",
   "execution_count": 10,
   "metadata": {},
   "outputs": [
    {
     "name": "stdout",
     "output_type": "stream",
     "text": [
      "Fitting 5 folds for each of 120 candidates, totalling 600 fits\n"
     ]
    },
    {
     "name": "stderr",
     "output_type": "stream",
     "text": [
      "[Parallel(n_jobs=-1)]: Using backend LokyBackend with 8 concurrent workers.\n",
      "[Parallel(n_jobs=-1)]: Done  16 tasks      | elapsed:    2.1s\n",
      "[Parallel(n_jobs=-1)]: Done 112 tasks      | elapsed:    8.2s\n",
      "[Parallel(n_jobs=-1)]: Done 272 tasks      | elapsed:   20.3s\n",
      "[Parallel(n_jobs=-1)]: Done 496 tasks      | elapsed:   42.8s\n",
      "[Parallel(n_jobs=-1)]: Done 600 out of 600 | elapsed:   53.5s finished\n"
     ]
    },
    {
     "name": "stdout",
     "output_type": "stream",
     "text": [
      "{'max_depth': 20, 'min_samples_split': 2, 'n_estimators': 300}\n"
     ]
    }
   ],
   "source": [
    "# Applying first model GridSearchCV to the given dataset and trying to find the best parameters to better tune the model\n",
    "\n",
    "from sklearn.ensemble import RandomForestClassifier\n",
    "\n",
    "n_estimators = [100, 200, 300, 500]\n",
    "max_depth = [1, 5, 8, 15, 20, 25]\n",
    "min_samples_split = [1, 1.5, 2, 5, 8]\n",
    "\n",
    "hyperF = dict(n_estimators = n_estimators, max_depth = max_depth,  \n",
    "              min_samples_split = min_samples_split)\n",
    "\n",
    "forest = RandomForestClassifier(random_state = 0)\n",
    "gridF = GridSearchCV(forest, hyperF, cv = 5, verbose = 3, \n",
    "                      n_jobs = -1)\n",
    "\n",
    "bestF = gridF.fit(X_train_minmax, y_train)\n",
    "print(bestF.best_params_)"
   ]
  },
  {
   "cell_type": "code",
   "execution_count": 11,
   "metadata": {},
   "outputs": [
    {
     "name": "stdout",
     "output_type": "stream",
     "text": [
      "Fitting 5 folds for each of 120 candidates, totalling 600 fits\n"
     ]
    },
    {
     "name": "stderr",
     "output_type": "stream",
     "text": [
      "[Parallel(n_jobs=-1)]: Using backend LokyBackend with 8 concurrent workers.\n",
      "[Parallel(n_jobs=-1)]: Done  34 tasks      | elapsed:    3.1s\n",
      "[Parallel(n_jobs=-1)]: Done 240 tasks      | elapsed:    7.8s\n",
      "[Parallel(n_jobs=-1)]: Done 600 out of 600 | elapsed:   16.7s finished\n"
     ]
    },
    {
     "name": "stdout",
     "output_type": "stream",
     "text": [
      "{'gamma': 0.1, 'learning_rate': 0.1, 'max_depth': 12}\n"
     ]
    }
   ],
   "source": [
    "# Applying first model XGBClassifier to the given dataset and trying to find the best parameters to better tune the model\n",
    "\n",
    "from xgboost import XGBClassifier\n",
    "\n",
    "gamma = [0.01, 0.1, 0.5, 1]\n",
    "max_depth = [1, 2, 5, 8, 10,12]\n",
    "learning_rate = [0.1, 1, 2, 5, 10]\n",
    "\n",
    "hyperF_XGB = dict(gamma = gamma, max_depth = max_depth,  \n",
    "              learning_rate = learning_rate)\n",
    "\n",
    "XGB = XGBClassifier(random_state = 0)\n",
    "gridF_XGB = GridSearchCV(XGB, hyperF_XGB, cv = 5, verbose = 1, \n",
    "                      n_jobs = -1)\n",
    "\n",
    "bestF_XGB = gridF_XGB.fit(X_train_minmax, y_train)\n",
    "print(bestF_XGB.best_params_)"
   ]
  },
  {
   "cell_type": "code",
   "execution_count": 12,
   "metadata": {},
   "outputs": [
    {
     "name": "stdout",
     "output_type": "stream",
     "text": [
      "Fitting 5 folds for each of 150 candidates, totalling 750 fits\n"
     ]
    },
    {
     "name": "stderr",
     "output_type": "stream",
     "text": [
      "[Parallel(n_jobs=-1)]: Using backend LokyBackend with 8 concurrent workers.\n",
      "[Parallel(n_jobs=-1)]: Done  52 tasks      | elapsed:    5.7s\n",
      "[Parallel(n_jobs=-1)]: Done 216 tasks      | elapsed:  1.1min\n",
      "[Parallel(n_jobs=-1)]: Done 466 tasks      | elapsed:  2.2min\n",
      "[Parallel(n_jobs=-1)]: Done 750 out of 750 | elapsed:  2.7min finished\n"
     ]
    },
    {
     "name": "stdout",
     "output_type": "stream",
     "text": [
      "{'learning_rate': 0.05, 'max_depth': 5, 'n_estimators': 500}\n"
     ]
    }
   ],
   "source": [
    "# Applying first model GradientBoostingClassifier to the given dataset and trying to find the best parameters to better tune the model\n",
    "\n",
    "from sklearn.ensemble import GradientBoostingClassifier\n",
    "\n",
    "n_estimators = [100, 200, 300, 500, 700, 1000]\n",
    "max_depth = [1, 2, 5, 6, 8]\n",
    "learning_rate = [0.01, 0.05, 0.1, 1, 2,]\n",
    "\n",
    "hyperF_gb = dict(n_estimators = n_estimators, max_depth = max_depth,\n",
    "             learning_rate = learning_rate)\n",
    "\n",
    "gb = GradientBoostingClassifier(random_state = 0)\n",
    "gridF_gb = GridSearchCV(gb, hyperF_gb, cv = 5, verbose = 1, \n",
    "                      n_jobs = -1)\n",
    "\n",
    "bestF_gb = gridF_gb.fit(X_train_minmax, y_train)\n",
    "print(bestF_gb.best_params_)"
   ]
  },
  {
   "cell_type": "code",
   "execution_count": 13,
   "metadata": {},
   "outputs": [
    {
     "name": "stdout",
     "output_type": "stream",
     "text": [
      "Fitting 5 folds for each of 48 candidates, totalling 240 fits\n"
     ]
    },
    {
     "name": "stderr",
     "output_type": "stream",
     "text": [
      "[Parallel(n_jobs=-1)]: Using backend LokyBackend with 8 concurrent workers.\n",
      "[Parallel(n_jobs=-1)]: Done  52 tasks      | elapsed:    0.4s\n"
     ]
    },
    {
     "name": "stdout",
     "output_type": "stream",
     "text": [
      "{'C': 7, 'gamma': 'scale', 'kernel': 'rbf'}\n"
     ]
    },
    {
     "name": "stderr",
     "output_type": "stream",
     "text": [
      "[Parallel(n_jobs=-1)]: Done 240 out of 240 | elapsed:    2.0s finished\n"
     ]
    }
   ],
   "source": [
    "# Applying first model svm to the given dataset and trying to find the best parameters to better tune the model\n",
    "\n",
    "from sklearn import svm\n",
    "\n",
    "C = [1, 2, 3, 4, 5, 6, 6.5, 7]\n",
    "kernel = [ 'poly', 'rbf', 'sigmoid']\n",
    "gamma = ['scale', 'auto']\n",
    "\n",
    "hyperF_svm = dict(C = C, kernel = kernel,  \n",
    "              gamma=gamma)\n",
    "\n",
    "model_svm = svm.SVC(random_state=0)\n",
    "gridF_svm = GridSearchCV(model_svm, hyperF_svm, cv = 5, verbose = 1, \n",
    "                      n_jobs = -1)\n",
    "\n",
    "bestF_svm = gridF_svm.fit(X_train_minmax, y_train)\n",
    "print(bestF_svm.best_params_)"
   ]
  },
  {
   "cell_type": "code",
   "execution_count": 16,
   "metadata": {},
   "outputs": [
    {
     "name": "stdout",
     "output_type": "stream",
     "text": [
      "Validation Accuracy: \n",
      "0.9815950920245399\n",
      "\n",
      " Confusion Matrix:\n",
      "[[155   6]\n",
      " [  0 165]]\n"
     ]
    },
    {
     "data": {
      "image/png": "[encoded data removed]",
      "text/plain": [
       "<Figure size 432x288 with 1 Axes>"
      ]
     },
     "metadata": {
      "needs_background": "light"
     },
     "output_type": "display_data"
    }
   ],
   "source": [
    "RF_reg = RandomForestClassifier(max_depth= 20, min_samples_split= 2, n_estimators= 300, random_state=0)\n",
    "RF_reg.fit(X_train_minmax,y_train)\n",
    "\n",
    "from sklearn import metrics\n",
    "y_pred_class_train = RF_reg.predict(X_train_minmax)\n",
    "\n",
    "y_pred_class = RF_reg.predict(X_valid_minmax)\n",
    "print('Validation Accuracy: ')\n",
    "print(metrics.accuracy_score(y_valid, y_pred_class))\n",
    "\n",
    "print('\\n Confusion Matrix:')\n",
    "confusion = metrics.confusion_matrix(y_valid, y_pred_class)\n",
    "print(confusion)\n",
    "\n",
    "# calculate the fpr and tpr for all thresholds of the classification\n",
    "fpr, tpr, threshold = metrics.roc_curve(y_valid, y_pred_class)\n",
    "roc_auc = metrics.auc(fpr, tpr)\n",
    "\n",
    "# method I: plt\n",
    "import matplotlib.pyplot as plt\n",
    "plt.title('Receiver Operating Characteristic')\n",
    "plt.plot(fpr, tpr, 'b', label = 'AUC = %0.2f' % roc_auc)\n",
    "plt.legend(loc = 'lower right')\n",
    "plt.plot([0, 1], [0, 1],'r--')\n",
    "plt.xlim([0, 1])\n",
    "plt.ylim([0, 1])\n",
    "plt.ylabel('True Positive Rate')\n",
    "plt.xlabel('False Positive Rate')\n",
    "plt.show()"
   ]
  },
  {
   "cell_type": "code",
   "execution_count": 17,
   "metadata": {},
   "outputs": [
    {
     "name": "stdout",
     "output_type": "stream",
     "text": [
      "Confusion Matrix: \n",
      "\n",
      "[[157   4]\n",
      " [  0 165]]\n"
     ]
    },
    {
     "data": {
      "image/png": "[encoded data removed]",
      "text/plain": [
       "<Figure size 432x288 with 1 Axes>"
      ]
     },
     "metadata": {
      "needs_background": "light"
     },
     "output_type": "display_data"
    }
   ],
   "source": [
    "Gradient_reg = GradientBoostingClassifier(learning_rate= 0.05, max_depth= 5, n_estimators= 500, random_state=0)\n",
    "Gradient_reg.fit(X_train_minmax,y_train)\n",
    "\n",
    "y_pred_class = Gradient_reg.predict(X_valid_minmax)\n",
    "\n",
    "from sklearn import metrics\n",
    "\n",
    "print('Confusion Matrix: \\n')\n",
    "confusion = metrics.confusion_matrix(y_valid, y_pred_class)\n",
    "print(confusion)\n",
    "\n",
    "# calculate the fpr and tpr for all thresholds of the classification\n",
    "fpr, tpr, threshold = metrics.roc_curve(y_valid, y_pred_class)\n",
    "roc_auc = metrics.auc(fpr, tpr)\n",
    "\n",
    "# method I: plt\n",
    "import matplotlib.pyplot as plt\n",
    "plt.title('Receiver Operating Characteristic')\n",
    "plt.plot(fpr, tpr, 'b', label = 'AUC = %0.2f' % roc_auc)\n",
    "plt.legend(loc = 'lower right')\n",
    "plt.plot([0, 1], [0, 1],'r--')\n",
    "plt.xlim([0, 1])\n",
    "plt.ylim([0, 1])\n",
    "plt.ylabel('True Positive Rate')\n",
    "plt.xlabel('False Positive Rate')\n",
    "plt.show()"
   ]
  },
  {
   "cell_type": "code",
   "execution_count": 18,
   "metadata": {},
   "outputs": [
    {
     "name": "stdout",
     "output_type": "stream",
     "text": [
      "Confusion Matrix: \n",
      "\n",
      "[[151  10]\n",
      " [  0 165]]\n"
     ]
    },
    {
     "data": {
      "image/png": "[encoded data removed]",
      "text/plain": [
       "<Figure size 432x288 with 1 Axes>"
      ]
     },
     "metadata": {
      "needs_background": "light"
     },
     "output_type": "display_data"
    }
   ],
   "source": [
    "XGB_reg = XGBClassifier(gamma= 0.03,learning_rate= 0.18)\n",
    "XGB_reg.fit(X_train_minmax,y_train)\n",
    "\n",
    "y_pred_class = XGB_reg.predict(X_valid_minmax)\n",
    "\n",
    "from sklearn import metrics\n",
    "\n",
    "print('Confusion Matrix: \\n')\n",
    "confusion = metrics.confusion_matrix(y_valid, y_pred_class)\n",
    "print(confusion)\n",
    "\n",
    "# calculate the fpr and tpr for all thresholds of the classification\n",
    "fpr, tpr, threshold = metrics.roc_curve(y_valid, y_pred_class)\n",
    "roc_auc = metrics.auc(fpr, tpr)\n",
    "\n",
    "# method I: plt\n",
    "import matplotlib.pyplot as plt\n",
    "plt.title('Receiver Operating Characteristic')\n",
    "plt.plot(fpr, tpr, 'b', label = 'AUC = %0.2f' % roc_auc)\n",
    "plt.legend(loc = 'lower right')\n",
    "plt.plot([0, 1], [0, 1],'r--')\n",
    "plt.xlim([0, 1])\n",
    "plt.ylim([0, 1])\n",
    "plt.ylabel('True Positive Rate')\n",
    "plt.xlabel('False Positive Rate')\n",
    "plt.show()"
   ]
  },
  {
   "cell_type": "code",
   "execution_count": 19,
   "metadata": {},
   "outputs": [
    {
     "name": "stdout",
     "output_type": "stream",
     "text": [
      "Confusion Matrix: \n",
      "\n",
      "[[139  22]\n",
      " [  3 162]]\n"
     ]
    },
    {
     "data": {
      "image/png": "[encoded data removed]",
      "text/plain": [
       "<Figure size 432x288 with 1 Axes>"
      ]
     },
     "metadata": {
      "needs_background": "light"
     },
     "output_type": "display_data"
    }
   ],
   "source": [
    "model_svm = svm.SVC(C= 7, gamma= 'scale', kernel= 'rbf',random_state=0,probability=True)\n",
    "model_svm.fit(X_train_minmax,y_train)\n",
    "\n",
    "y_pred_class = model_svm.predict(X_valid_minmax)\n",
    "\n",
    "from sklearn import metrics\n",
    "\n",
    "print('Confusion Matrix: \\n')\n",
    "confusion = metrics.confusion_matrix(y_valid, y_pred_class)\n",
    "print(confusion)\n",
    "\n",
    "# method I: plt\n",
    "import matplotlib.pyplot as plt\n",
    "plt.title('Receiver Operating Characteristic')\n",
    "plt.plot(fpr, tpr, 'b', label = 'AUC = %0.2f' % roc_auc)\n",
    "plt.legend(loc = 'lower right')\n",
    "plt.plot([0, 1], [0, 1],'r--')\n",
    "plt.xlim([0, 1])\n",
    "plt.ylim([0, 1])\n",
    "plt.ylabel('True Positive Rate')\n",
    "plt.xlabel('False Positive Rate')\n",
    "plt.show()"
   ]
  },
  {
   "cell_type": "code",
   "execution_count": 20,
   "metadata": {},
   "outputs": [
    {
     "data": {
      "text/html": [
       "<div>\n",
       "<style scoped>\n",
       "    .dataframe tbody tr th:only-of-type {\n",
       "        vertical-align: middle;\n",
       "    }\n",
       "\n",
       "    .dataframe tbody tr th {\n",
       "        vertical-align: top;\n",
       "    }\n",
       "\n",
       "    .dataframe thead th {\n",
       "        text-align: right;\n",
       "    }\n",
       "</style>\n",
       "<table border=\"1\" class=\"dataframe\">\n",
       "  <thead>\n",
       "    <tr style=\"text-align: right;\">\n",
       "      <th></th>\n",
       "      <th>feature importance</th>\n",
       "    </tr>\n",
       "  </thead>\n",
       "  <tbody>\n",
       "    <tr>\n",
       "      <th>MonthlyIncome</th>\n",
       "      <td>0.094441</td>\n",
       "    </tr>\n",
       "    <tr>\n",
       "      <th>Age</th>\n",
       "      <td>0.081276</td>\n",
       "    </tr>\n",
       "    <tr>\n",
       "      <th>OverTime</th>\n",
       "      <td>0.066698</td>\n",
       "    </tr>\n",
       "    <tr>\n",
       "      <th>TotalWorkingYears</th>\n",
       "      <td>0.065955</td>\n",
       "    </tr>\n",
       "    <tr>\n",
       "      <th>DistanceFromHome</th>\n",
       "      <td>0.059260</td>\n",
       "    </tr>\n",
       "    <tr>\n",
       "      <th>YearsAtCompany</th>\n",
       "      <td>0.055698</td>\n",
       "    </tr>\n",
       "    <tr>\n",
       "      <th>StockOptionLevel</th>\n",
       "      <td>0.048087</td>\n",
       "    </tr>\n",
       "    <tr>\n",
       "      <th>PercentSalaryHike</th>\n",
       "      <td>0.044384</td>\n",
       "    </tr>\n",
       "    <tr>\n",
       "      <th>JobRole</th>\n",
       "      <td>0.042420</td>\n",
       "    </tr>\n",
       "    <tr>\n",
       "      <th>YearsInCurrentRole</th>\n",
       "      <td>0.041743</td>\n",
       "    </tr>\n",
       "    <tr>\n",
       "      <th>JobSatisfaction</th>\n",
       "      <td>0.037654</td>\n",
       "    </tr>\n",
       "    <tr>\n",
       "      <th>YearsWithCurrManager</th>\n",
       "      <td>0.037567</td>\n",
       "    </tr>\n",
       "    <tr>\n",
       "      <th>EnvironmentSatisfaction</th>\n",
       "      <td>0.034449</td>\n",
       "    </tr>\n",
       "    <tr>\n",
       "      <th>CommunicationSkill</th>\n",
       "      <td>0.033873</td>\n",
       "    </tr>\n",
       "    <tr>\n",
       "      <th>NumCompaniesWorked</th>\n",
       "      <td>0.033011</td>\n",
       "    </tr>\n",
       "    <tr>\n",
       "      <th>MaritalStatus</th>\n",
       "      <td>0.031778</td>\n",
       "    </tr>\n",
       "    <tr>\n",
       "      <th>TrainingTimesLastYear</th>\n",
       "      <td>0.031600</td>\n",
       "    </tr>\n",
       "    <tr>\n",
       "      <th>YearsSinceLastPromotion</th>\n",
       "      <td>0.031287</td>\n",
       "    </tr>\n",
       "    <tr>\n",
       "      <th>JobInvolvement</th>\n",
       "      <td>0.029040</td>\n",
       "    </tr>\n",
       "    <tr>\n",
       "      <th>EducationField</th>\n",
       "      <td>0.027837</td>\n",
       "    </tr>\n",
       "    <tr>\n",
       "      <th>Education</th>\n",
       "      <td>0.022006</td>\n",
       "    </tr>\n",
       "    <tr>\n",
       "      <th>Department</th>\n",
       "      <td>0.016295</td>\n",
       "    </tr>\n",
       "    <tr>\n",
       "      <th>BusinessTravel</th>\n",
       "      <td>0.016009</td>\n",
       "    </tr>\n",
       "    <tr>\n",
       "      <th>Gender</th>\n",
       "      <td>0.011913</td>\n",
       "    </tr>\n",
       "    <tr>\n",
       "      <th>PerformanceRating</th>\n",
       "      <td>0.005720</td>\n",
       "    </tr>\n",
       "  </tbody>\n",
       "</table>\n",
       "</div>"
      ],
      "text/plain": [
       "                         feature importance\n",
       "MonthlyIncome                      0.094441\n",
       "Age                                0.081276\n",
       "OverTime                           0.066698\n",
       "TotalWorkingYears                  0.065955\n",
       "DistanceFromHome                   0.059260\n",
       "YearsAtCompany                     0.055698\n",
       "StockOptionLevel                   0.048087\n",
       "PercentSalaryHike                  0.044384\n",
       "JobRole                            0.042420\n",
       "YearsInCurrentRole                 0.041743\n",
       "JobSatisfaction                    0.037654\n",
       "YearsWithCurrManager               0.037567\n",
       "EnvironmentSatisfaction            0.034449\n",
       "CommunicationSkill                 0.033873\n",
       "NumCompaniesWorked                 0.033011\n",
       "MaritalStatus                      0.031778\n",
       "TrainingTimesLastYear              0.031600\n",
       "YearsSinceLastPromotion            0.031287\n",
       "JobInvolvement                     0.029040\n",
       "EducationField                     0.027837\n",
       "Education                          0.022006\n",
       "Department                         0.016295\n",
       "BusinessTravel                     0.016009\n",
       "Gender                             0.011913\n",
       "PerformanceRating                  0.005720"
      ]
     },
     "execution_count": 20,
     "metadata": {},
     "output_type": "execute_result"
    }
   ],
   "source": [
    "####### FEATURE IMPORTANCE #### ####\n",
    "# rank the importance of features\n",
    "# We can decide which parameters to drop based on this statistics\n",
    "\n",
    "f_impt= pd.DataFrame(RF_reg.feature_importances_,index=X_train.columns)\n",
    "f_impt = f_impt.sort_values(by=0,ascending=False)\n",
    "f_impt.columns = ['feature importance']\n",
    "f_impt"
   ]
  },
  {
   "cell_type": "code",
   "execution_count": 21,
   "metadata": {},
   "outputs": [
    {
     "data": {
      "image/png": "[encoded data removed]",
      "text/plain": [
       "<Figure size 432x288 with 1 Axes>"
      ]
     },
     "metadata": {
      "needs_background": "light"
     },
     "output_type": "display_data"
    }
   ],
   "source": [
    "# Cross Validation can be useful in finding the average low MAPE score and to get the best parameters for our chosen ML model\n",
    "\n",
    "from sklearn.ensemble import RandomForestRegressor\n",
    "from sklearn.pipeline import Pipeline\n",
    "from sklearn.impute import SimpleImputer\n",
    "from sklearn.model_selection import cross_val_score\n",
    "\n",
    "def get_score(n_estimators):\n",
    "    \"\"\"Return the average MAE over 3 CV folds of random forest model.\n",
    "    \n",
    "    Keyword argument:\n",
    "    n_estimators -- the number of trees in the forest\n",
    "    \"\"\"\n",
    "    # Replace this body with your own code\n",
    "    my_pipeline = Pipeline(steps=[('model', RandomForestClassifier(n_estimators, random_state=0))])\n",
    "    scores = -1 * cross_val_score(my_pipeline, X_train_minmax, y_train,\n",
    "                              cv=10,\n",
    "                              scoring='accuracy')\n",
    "\n",
    "    return scores.mean()\n",
    "\n",
    "results = {}\n",
    "for i in range(1,8):\n",
    "    results[50*i] = get_score(50*i)\n",
    "\n",
    "import matplotlib.pyplot as plt\n",
    "%matplotlib inline\n",
    "\n",
    "plt.plot(list(results.keys()), list(results.values()))\n",
    "plt.show()"
   ]
  },
  {
   "cell_type": "code",
   "execution_count": 22,
   "metadata": {},
   "outputs": [
    {
     "name": "stdout",
     "output_type": "stream",
     "text": [
      "     Attrition\n",
      "Id            \n",
      "1     0.001504\n",
      "2     0.002382\n",
      "3     0.003138\n",
      "4     0.002045\n",
      "5     0.000030\n",
      "..         ...\n",
      "466   0.210950\n",
      "467   0.999702\n",
      "468   0.842692\n",
      "469   0.004683\n",
      "470   0.008303\n",
      "\n",
      "[470 rows x 1 columns]\n"
     ]
    }
   ],
   "source": [
    "# Based on the accuracy and AUC score we have decided to use GradientBoostingClassifier as the final model to predict\n",
    "# attrition rate on test dataset\n",
    "\n",
    "attrition_percent = Gradient_reg.predict_proba(X_test_minmax)\n",
    "dataset = pd.DataFrame({'Attrition': attrition_percent[:, 1]})\n",
    "\n",
    "Id_col = train_df['Id']\n",
    "Id_col.head()\n",
    "dataset.insert(0, \"Id\",Id_col , True)\n",
    "\n",
    "dataset.set_index('Id', inplace=True)\n",
    "print (dataset)"
   ]
  },
  {
   "cell_type": "code",
   "execution_count": null,
   "metadata": {},
   "outputs": [],
   "source": [
    "# For Feature Engineering we can plot many graphs showing distribution of individual variables against attrition rate \n",
    "# If the distribution is not normal or if it is skewed then we can use SQRT or LOG functions to fine tune them\n",
    "# Also we can find the correlation graphs of pairs of varibales to find dependencies and if some of them are highly dependent\n",
    "# on each other then we can drop or modify them to avoide repeated results.\n",
    "# Plotting these graphs are very easy and will take much space to this notebook hence I havent shown them to keep it simple.\n",
    "\n",
    "#Thanks for the review and I am happy for any comments or suggestions for this notebook"
   ]
  }
 ],
 "metadata": {
  "kernelspec": {
   "display_name": "Python 3",
   "language": "python",
   "name": "python3"
  },
  "language_info": {
   "codemirror_mode": {
    "name": "ipython",
    "version": 3
   },
   "file_extension": ".py",
   "mimetype": "text/x-python",
   "name": "python",
   "nbconvert_exporter": "python",
   "pygments_lexer": "ipython3",
   "version": "3.7.6"
  }
 },
 "nbformat": 4,
 "nbformat_minor": 4
}
