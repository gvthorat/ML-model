{
 "cells": [
  {
   "cell_type": "code",
   "execution_count": 1,
   "metadata": {},
   "outputs": [],
   "source": [
    "import pandas as pd\n",
    "import numpy as np"
   ]
  },
  {
   "cell_type": "code",
   "execution_count": 2,
   "metadata": {},
   "outputs": [
    {
     "name": "stdout",
     "output_type": "stream",
     "text": [
      "Index(['Id', 'Age', 'Attrition', 'BusinessTravel', 'Department',\n",
      "       'DistanceFromHome', 'Education', 'EducationField', 'EmployeeNumber',\n",
      "       'EnvironmentSatisfaction', 'Gender', 'JobInvolvement', 'JobRole',\n",
      "       'JobSatisfaction', 'MaritalStatus', 'MonthlyIncome',\n",
      "       'NumCompaniesWorked', 'OverTime', 'PercentSalaryHike',\n",
      "       'PerformanceRating', 'StockOptionLevel', 'TotalWorkingYears',\n",
      "       'TrainingTimesLastYear', 'YearsAtCompany', 'YearsInCurrentRole',\n",
      "       'YearsSinceLastPromotion', 'YearsWithCurrManager', 'CommunicationSkill',\n",
      "       'Behaviour'],\n",
      "      dtype='object')\n",
      "Categorical variables:\n",
      "['BusinessTravel', 'Department', 'EducationField', 'Gender', 'JobRole', 'MaritalStatus', 'OverTime']\n"
     ]
    }
   ],
   "source": [
    "train_df = pd.read_csv(\"train_compete.csv\") \n",
    "X_test_N = pd.read_csv(\"test_compete.csv\")\n",
    "\n",
    "print(train_df.columns)\n",
    "\n",
    "X = train_df.drop(['Attrition'],axis = 1)\n",
    "Y = train_df['Attrition']\n",
    "\n",
    "s = (X.dtypes == 'object')\n",
    "object_cols = list(s[s].index)\n",
    "\n",
    "print(\"Categorical variables:\")\n",
    "print(object_cols)\n",
    "\n",
    "# Break off validation set from training data\n",
    "from sklearn.model_selection import train_test_split\n",
    "X_train, X_valid, y_train, y_valid = train_test_split(X, Y,\n",
    "                                                      train_size=0.8, test_size=0.2,\n",
    "                                                      random_state=0)"
   ]
  },
  {
   "cell_type": "code",
   "execution_count": 3,
   "metadata": {},
   "outputs": [],
   "source": [
    "from sklearn.linear_model import LogisticRegression\n",
    "from sklearn.tree import DecisionTreeClassifier\n",
    "from sklearn.ensemble import RandomForestClassifier\n",
    "from sklearn.ensemble import AdaBoostClassifier\n",
    "from sklearn.ensemble import GradientBoostingClassifier\n",
    "from sklearn.neighbors import KNeighborsClassifier\n",
    "from sklearn.neural_network import MLPClassifier\n",
    "from catboost import CatBoostClassifier\n",
    "from xgboost import XGBClassifier\n",
    "from sklearn import svm\n",
    "from sklearn.metrics import confusion_matrix\n",
    "from sklearn import preprocessing\n",
    "from sklearn import metrics\n",
    "\n",
    "from sklearn.preprocessing import LabelEncoder\n",
    "\n",
    "# Make copy to avoid changing original data \n",
    "label_X_train = X_train.copy()\n",
    "label_X_valid = X_valid.copy()\n",
    "label_X_test = X_test_N.copy()\n",
    "\n",
    "# Apply label encoder to each column with categorical data\n",
    "label_encoder = LabelEncoder()\n",
    "for col in object_cols:\n",
    "    label_X_train[col] = label_encoder.fit_transform(X_train[col])\n",
    "    label_X_valid[col] = label_encoder.transform(X_valid[col])\n",
    "    label_X_test[col] = label_encoder.transform(X_test_N[col])    \n",
    "\n",
    "# Apply MinMax Scalar to all features\n",
    "\n",
    "min_max_scaler = preprocessing.MinMaxScaler(feature_range=(0, 1))\n",
    "X_train_minmax = min_max_scaler.fit_transform(label_X_train)\n",
    "X_valid_minmax = min_max_scaler.transform(label_X_valid)\n",
    "X_test_minmax = min_max_scaler.transform(label_X_test)"
   ]
  },
  {
   "cell_type": "code",
   "execution_count": 4,
   "metadata": {},
   "outputs": [
    {
     "name": "stdout",
     "output_type": "stream",
     "text": [
      "Fitting 5 folds for each of 120 candidates, totalling 600 fits\n"
     ]
    },
    {
     "name": "stderr",
     "output_type": "stream",
     "text": [
      "[Parallel(n_jobs=-1)]: Using backend LokyBackend with 8 concurrent workers.\n",
      "[Parallel(n_jobs=-1)]: Done  16 tasks      | elapsed:   12.5s\n",
      "[Parallel(n_jobs=-1)]: Done 112 tasks      | elapsed:   45.2s\n",
      "[Parallel(n_jobs=-1)]: Done 272 tasks      | elapsed:  1.7min\n",
      "[Parallel(n_jobs=-1)]: Done 496 tasks      | elapsed:  3.1min\n",
      "[Parallel(n_jobs=-1)]: Done 600 out of 600 | elapsed:  3.5min finished\n"
     ]
    },
    {
     "name": "stdout",
     "output_type": "stream",
     "text": [
      "{'max_depth': 20, 'min_samples_split': 2, 'n_estimators': 200}\n"
     ]
    }
   ],
   "source": [
    "from sklearn.model_selection import GridSearchCV\n",
    "\n",
    "n_estimators = [100, 200, 300, 500]\n",
    "max_depth = [1, 5, 8, 15, 20, 25]\n",
    "min_samples_split = [1, 1.5, 2, 5, 8]\n",
    "\n",
    "hyperF = dict(n_estimators = n_estimators, max_depth = max_depth,  \n",
    "              min_samples_split = min_samples_split)\n",
    "\n",
    "forest = RandomForestClassifier(random_state = 0)\n",
    "gridF = GridSearchCV(forest, hyperF, cv = 5, verbose = 3, \n",
    "                      n_jobs = -1)\n",
    "\n",
    "bestF = gridF.fit(X_train_minmax, y_train)\n",
    "print(bestF.best_params_)"
   ]
  },
  {
   "cell_type": "code",
   "execution_count": 5,
   "metadata": {},
   "outputs": [
    {
     "name": "stdout",
     "output_type": "stream",
     "text": [
      "Fitting 5 folds for each of 120 candidates, totalling 600 fits\n"
     ]
    },
    {
     "name": "stderr",
     "output_type": "stream",
     "text": [
      "[Parallel(n_jobs=-1)]: Using backend LokyBackend with 8 concurrent workers.\n",
      "[Parallel(n_jobs=-1)]: Done  34 tasks      | elapsed:   16.6s\n",
      "[Parallel(n_jobs=-1)]: Done 184 tasks      | elapsed:   28.3s\n",
      "[Parallel(n_jobs=-1)]: Done 434 tasks      | elapsed:   45.5s\n",
      "[Parallel(n_jobs=-1)]: Done 600 out of 600 | elapsed:  1.0min finished\n"
     ]
    },
    {
     "name": "stdout",
     "output_type": "stream",
     "text": [
      "{'gamma': 0.5, 'learning_rate': 0.1, 'max_depth': 5}\n"
     ]
    }
   ],
   "source": [
    "from sklearn.model_selection import GridSearchCV\n",
    "\n",
    "gamma = [0.01, 0.1, 0.5, 1]\n",
    "max_depth = [1, 2, 5, 8, 10,12]\n",
    "learning_rate = [0.1, 1, 2, 5, 10]\n",
    "\n",
    "hyperF_XGB = dict(gamma = gamma, max_depth = max_depth,  \n",
    "              learning_rate = learning_rate)\n",
    "\n",
    "XGB = XGBClassifier(random_state = 0)\n",
    "gridF_XGB = GridSearchCV(XGB, hyperF_XGB, cv = 5, verbose = 1, \n",
    "                      n_jobs = -1)\n",
    "\n",
    "bestF_XGB = gridF_XGB.fit(X_train_minmax, y_train)\n",
    "print(bestF_XGB.best_params_)"
   ]
  },
  {
   "cell_type": "code",
   "execution_count": 6,
   "metadata": {},
   "outputs": [
    {
     "name": "stdout",
     "output_type": "stream",
     "text": [
      "Fitting 5 folds for each of 150 candidates, totalling 750 fits\n"
     ]
    },
    {
     "name": "stderr",
     "output_type": "stream",
     "text": [
      "[Parallel(n_jobs=-1)]: Using backend LokyBackend with 8 concurrent workers.\n",
      "[Parallel(n_jobs=-1)]: Done  34 tasks      | elapsed:   14.9s\n",
      "[Parallel(n_jobs=-1)]: Done 184 tasks      | elapsed:  2.8min\n",
      "[Parallel(n_jobs=-1)]: Done 434 tasks      | elapsed:  4.9min\n",
      "[Parallel(n_jobs=-1)]: Done 750 out of 750 | elapsed:  6.3min finished\n"
     ]
    },
    {
     "name": "stdout",
     "output_type": "stream",
     "text": [
      "{'learning_rate': 0.1, 'max_depth': 2, 'n_estimators': 200}\n"
     ]
    }
   ],
   "source": [
    "from sklearn.model_selection import GridSearchCV\n",
    "\n",
    "n_estimators = [100, 200, 300, 500, 700, 1000]\n",
    "max_depth = [1, 2, 5, 6, 8]\n",
    "learning_rate = [0.01, 0.05, 0.1, 1, 2,]\n",
    "\n",
    "hyperF_gb = dict(n_estimators = n_estimators, max_depth = max_depth,\n",
    "             learning_rate = learning_rate)\n",
    "\n",
    "gb = GradientBoostingClassifier(random_state = 0)\n",
    "gridF_gb = GridSearchCV(gb, hyperF_gb, cv = 5, verbose = 1, \n",
    "                      n_jobs = -1)\n",
    "\n",
    "bestF_gb = gridF_gb.fit(X_train_minmax, y_train)\n",
    "print(bestF_gb.best_params_)"
   ]
  },
  {
   "cell_type": "code",
   "execution_count": 7,
   "metadata": {},
   "outputs": [
    {
     "name": "stdout",
     "output_type": "stream",
     "text": [
      "Fitting 5 folds for each of 48 candidates, totalling 240 fits\n"
     ]
    },
    {
     "name": "stderr",
     "output_type": "stream",
     "text": [
      "[Parallel(n_jobs=-1)]: Using backend LokyBackend with 8 concurrent workers.\n",
      "[Parallel(n_jobs=-1)]: Done  52 tasks      | elapsed:    1.6s\n"
     ]
    },
    {
     "name": "stdout",
     "output_type": "stream",
     "text": [
      "{'C': 6, 'gamma': 'scale', 'kernel': 'rbf'}\n"
     ]
    },
    {
     "name": "stderr",
     "output_type": "stream",
     "text": [
      "[Parallel(n_jobs=-1)]: Done 240 out of 240 | elapsed:    5.1s finished\n"
     ]
    }
   ],
   "source": [
    "from sklearn.model_selection import GridSearchCV\n",
    "\n",
    "C = [1, 2, 3, 4, 5, 6, 6.5, 7]\n",
    "kernel = [ 'poly', 'rbf', 'sigmoid']\n",
    "gamma = ['scale', 'auto']\n",
    "\n",
    "hyperF_svm = dict(C = C, kernel = kernel,  \n",
    "              gamma=gamma)\n",
    "\n",
    "model_svm = svm.SVC(random_state=0)\n",
    "gridF_svm = GridSearchCV(model_svm, hyperF_svm, cv = 5, verbose = 1, \n",
    "                      n_jobs = -1)\n",
    "\n",
    "bestF_svm = gridF_svm.fit(X_train_minmax, y_train)\n",
    "print(bestF_svm.best_params_)"
   ]
  },
  {
   "cell_type": "code",
   "execution_count": 8,
   "metadata": {},
   "outputs": [
    {
     "name": "stdout",
     "output_type": "stream",
     "text": [
      "Training Accuracy: \n",
      "1.0\n",
      "Validation Accuracy: \n",
      "0.9233128834355828\n",
      "Confusion Matrix: \n",
      "\n",
      "[[156   5]\n",
      " [ 20 145]]\n"
     ]
    },
    {
     "data": {
      "image/png": "[encoded data removed]",
      "text/plain": [
       "<Figure size 432x288 with 1 Axes>"
      ]
     },
     "metadata": {
      "needs_background": "light"
     },
     "output_type": "display_data"
    }
   ],
   "source": [
    "RF_reg = RandomForestClassifier(max_depth= 20, min_samples_split= 2, n_estimators= 200, random_state=0)\n",
    "RF_reg.fit(X_train_minmax,y_train)\n",
    "\n",
    "from sklearn import metrics\n",
    "y_pred_class_train = RF_reg.predict(X_train_minmax)\n",
    "print('Training Accuracy: ')\n",
    "print(metrics.accuracy_score(y_train, y_pred_class_train))\n",
    "\n",
    "y_pred_class = RF_reg.predict(X_valid_minmax)\n",
    "print('Validation Accuracy: ')\n",
    "print(metrics.accuracy_score(y_valid, y_pred_class))\n",
    "\n",
    "print('Confusion Matrix: \\n')\n",
    "confusion = metrics.confusion_matrix(y_valid, y_pred_class)\n",
    "print(confusion)\n",
    "\n",
    "# calculate the fpr and tpr for all thresholds of the classification\n",
    "fpr, tpr, threshold = metrics.roc_curve(y_valid, y_pred_class)\n",
    "roc_auc = metrics.auc(fpr, tpr)\n",
    "\n",
    "# method I: plt\n",
    "import matplotlib.pyplot as plt\n",
    "plt.title('Receiver Operating Characteristic')\n",
    "plt.plot(fpr, tpr, 'b', label = 'AUC = %0.2f' % roc_auc)\n",
    "plt.legend(loc = 'lower right')\n",
    "plt.plot([0, 1], [0, 1],'r--')\n",
    "plt.xlim([0, 1])\n",
    "plt.ylim([0, 1])\n",
    "plt.ylabel('True Positive Rate')\n",
    "plt.xlabel('False Positive Rate')\n",
    "plt.show()"
   ]
  },
  {
   "cell_type": "code",
   "execution_count": 10,
   "metadata": {},
   "outputs": [
    {
     "name": "stdout",
     "output_type": "stream",
     "text": [
      "Accuracy: \n",
      "0.9171779141104295\n",
      "Confusion Matrix: \n",
      "\n",
      "[[159   2]\n",
      " [ 25 140]]\n"
     ]
    },
    {
     "data": {
      "image/png": "[encoded data removed]",
      "text/plain": [
       "<Figure size 432x288 with 1 Axes>"
      ]
     },
     "metadata": {
      "needs_background": "light"
     },
     "output_type": "display_data"
    }
   ],
   "source": [
    "Gradient_reg = GradientBoostingClassifier(learning_rate= 0.1, max_depth= 2, n_estimators= 200, random_state=0)\n",
    "Gradient_reg.fit(X_train_minmax,y_train)\n",
    "\n",
    "y_pred_class = Gradient_reg.predict(X_valid_minmax)\n",
    "\n",
    "from sklearn import metrics\n",
    "print('Accuracy: ')\n",
    "print(metrics.accuracy_score(y_valid, y_pred_class))\n",
    "\n",
    "print('Confusion Matrix: \\n')\n",
    "confusion = metrics.confusion_matrix(y_valid, y_pred_class)\n",
    "print(confusion)\n",
    "\n",
    "# calculate the fpr and tpr for all thresholds of the classification\n",
    "fpr, tpr, threshold = metrics.roc_curve(y_valid, y_pred_class)\n",
    "roc_auc = metrics.auc(fpr, tpr)\n",
    "\n",
    "# method I: plt\n",
    "import matplotlib.pyplot as plt\n",
    "plt.title('Receiver Operating Characteristic')\n",
    "plt.plot(fpr, tpr, 'b', label = 'AUC = %0.2f' % roc_auc)\n",
    "plt.legend(loc = 'lower right')\n",
    "plt.plot([0, 1], [0, 1],'r--')\n",
    "plt.xlim([0, 1])\n",
    "plt.ylim([0, 1])\n",
    "plt.ylabel('True Positive Rate')\n",
    "plt.xlabel('False Positive Rate')\n",
    "plt.show()"
   ]
  },
  {
   "cell_type": "code",
   "execution_count": 9,
   "metadata": {},
   "outputs": [
    {
     "name": "stdout",
     "output_type": "stream",
     "text": [
      "Accuracy: \n",
      "0.901840490797546\n",
      "Confusion Matrix: \n",
      "\n",
      "[[157   4]\n",
      " [ 28 137]]\n"
     ]
    },
    {
     "data": {
      "image/png": "[encoded data removed]",
      "text/plain": [
       "<Figure size 432x288 with 1 Axes>"
      ]
     },
     "metadata": {
      "needs_background": "light"
     },
     "output_type": "display_data"
    }
   ],
   "source": [
    "XGB_reg = XGBClassifier(gamma= 0.5,learning_rate= 0.1,max_depth=5)\n",
    "XGB_reg.fit(X_train_minmax,y_train)\n",
    "\n",
    "y_pred_class = XGB_reg.predict(X_valid_minmax)\n",
    "\n",
    "from sklearn import metrics\n",
    "print('Accuracy: ')\n",
    "print(metrics.accuracy_score(y_valid, y_pred_class))\n",
    "\n",
    "print('Confusion Matrix: \\n')\n",
    "confusion = metrics.confusion_matrix(y_valid, y_pred_class)\n",
    "print(confusion)\n",
    "\n",
    "# calculate the fpr and tpr for all thresholds of the classification\n",
    "fpr, tpr, threshold = metrics.roc_curve(y_valid, y_pred_class)\n",
    "roc_auc = metrics.auc(fpr, tpr)\n",
    "\n",
    "# method I: plt\n",
    "import matplotlib.pyplot as plt\n",
    "plt.title('Receiver Operating Characteristic')\n",
    "plt.plot(fpr, tpr, 'b', label = 'AUC = %0.2f' % roc_auc)\n",
    "plt.legend(loc = 'lower right')\n",
    "plt.plot([0, 1], [0, 1],'r--')\n",
    "plt.xlim([0, 1])\n",
    "plt.ylim([0, 1])\n",
    "plt.ylabel('True Positive Rate')\n",
    "plt.xlabel('False Positive Rate')\n",
    "plt.show()"
   ]
  },
  {
   "cell_type": "code",
   "execution_count": 11,
   "metadata": {},
   "outputs": [
    {
     "name": "stdout",
     "output_type": "stream",
     "text": [
      "Accuracy: \n",
      "0.9294478527607362\n",
      "Confusion Matrix: \n",
      "\n",
      "[[146  15]\n",
      " [  8 157]]\n"
     ]
    },
    {
     "data": {
      "image/png": "[encoded data removed]",
      "text/plain": [
       "<Figure size 432x288 with 1 Axes>"
      ]
     },
     "metadata": {
      "needs_background": "light"
     },
     "output_type": "display_data"
    }
   ],
   "source": [
    "model_svm = svm.SVC(C= 6, gamma= 'scale', kernel= 'rbf',random_state=0,probability=True)\n",
    "model_svm.fit(X_train_minmax,y_train)\n",
    "\n",
    "y_pred_class = model_svm.predict(X_valid_minmax)\n",
    "\n",
    "from sklearn import metrics\n",
    "print('Accuracy: ')\n",
    "print(metrics.accuracy_score(y_valid, y_pred_class))\n",
    "\n",
    "print('Confusion Matrix: \\n')\n",
    "confusion = metrics.confusion_matrix(y_valid, y_pred_class)\n",
    "print(confusion)\n",
    "\n",
    "# method I: plt\n",
    "import matplotlib.pyplot as plt\n",
    "plt.title('Receiver Operating Characteristic')\n",
    "plt.plot(fpr, tpr, 'b', label = 'AUC = %0.2f' % roc_auc)\n",
    "plt.legend(loc = 'lower right')\n",
    "plt.plot([0, 1], [0, 1],'r--')\n",
    "plt.xlim([0, 1])\n",
    "plt.ylim([0, 1])\n",
    "plt.ylabel('True Positive Rate')\n",
    "plt.xlabel('False Positive Rate')\n",
    "plt.show()"
   ]
  },
  {
   "cell_type": "code",
   "execution_count": 12,
   "metadata": {},
   "outputs": [
    {
     "name": "stdout",
     "output_type": "stream",
     "text": [
      "     Attrition\n",
      "Id            \n",
      "1     0.000794\n",
      "2     0.002950\n",
      "3     0.012086\n",
      "4     0.044864\n",
      "5     0.001261\n",
      "..         ...\n",
      "466   0.035097\n",
      "467   0.847942\n",
      "468   0.487252\n",
      "469   0.024655\n",
      "470   0.002747\n",
      "\n",
      "[470 rows x 1 columns]\n"
     ]
    }
   ],
   "source": [
    "attrition_percent = model_svm.predict_proba(X_test_minmax)\n",
    "dataset = pd.DataFrame({'Attrition': attrition_percent[:, 1]})\n",
    "\n",
    "Id_col = train_df['Id']\n",
    "Id_col.head()\n",
    "dataset.insert(0, \"Id\",Id_col , True)\n",
    "\n",
    "dataset.set_index('Id', inplace=True)\n",
    "print (dataset)"
   ]
  },
  {
   "cell_type": "code",
   "execution_count": 13,
   "metadata": {},
   "outputs": [],
   "source": [
    "dataset.to_csv('Sample_submission_Ganesh_Thorat_66.csv')"
   ]
  },
  {
   "cell_type": "code",
   "execution_count": 234,
   "metadata": {},
   "outputs": [
    {
     "data": {
      "text/html": [
       "<div>\n",
       "<style scoped>\n",
       "    .dataframe tbody tr th:only-of-type {\n",
       "        vertical-align: middle;\n",
       "    }\n",
       "\n",
       "    .dataframe tbody tr th {\n",
       "        vertical-align: top;\n",
       "    }\n",
       "\n",
       "    .dataframe thead th {\n",
       "        text-align: right;\n",
       "    }\n",
       "</style>\n",
       "<table border=\"1\" class=\"dataframe\">\n",
       "  <thead>\n",
       "    <tr style=\"text-align: right;\">\n",
       "      <th></th>\n",
       "      <th>feature importance</th>\n",
       "    </tr>\n",
       "  </thead>\n",
       "  <tbody>\n",
       "    <tr>\n",
       "      <th>MonthlyIncome</th>\n",
       "      <td>0.097897</td>\n",
       "    </tr>\n",
       "    <tr>\n",
       "      <th>Age</th>\n",
       "      <td>0.080278</td>\n",
       "    </tr>\n",
       "    <tr>\n",
       "      <th>OverTime</th>\n",
       "      <td>0.064529</td>\n",
       "    </tr>\n",
       "    <tr>\n",
       "      <th>TotalWorkingYears</th>\n",
       "      <td>0.064056</td>\n",
       "    </tr>\n",
       "    <tr>\n",
       "      <th>DistanceFromHome</th>\n",
       "      <td>0.060570</td>\n",
       "    </tr>\n",
       "    <tr>\n",
       "      <th>YearsAtCompany</th>\n",
       "      <td>0.056324</td>\n",
       "    </tr>\n",
       "    <tr>\n",
       "      <th>StockOptionLevel</th>\n",
       "      <td>0.051102</td>\n",
       "    </tr>\n",
       "    <tr>\n",
       "      <th>PercentSalaryHike</th>\n",
       "      <td>0.045011</td>\n",
       "    </tr>\n",
       "    <tr>\n",
       "      <th>JobRole</th>\n",
       "      <td>0.044123</td>\n",
       "    </tr>\n",
       "    <tr>\n",
       "      <th>YearsInCurrentRole</th>\n",
       "      <td>0.043756</td>\n",
       "    </tr>\n",
       "    <tr>\n",
       "      <th>YearsWithCurrManager</th>\n",
       "      <td>0.037920</td>\n",
       "    </tr>\n",
       "    <tr>\n",
       "      <th>EnvironmentSatisfaction</th>\n",
       "      <td>0.035282</td>\n",
       "    </tr>\n",
       "    <tr>\n",
       "      <th>JobSatisfaction</th>\n",
       "      <td>0.035182</td>\n",
       "    </tr>\n",
       "    <tr>\n",
       "      <th>CommunicationSkill</th>\n",
       "      <td>0.034833</td>\n",
       "    </tr>\n",
       "    <tr>\n",
       "      <th>NumCompaniesWorked</th>\n",
       "      <td>0.033685</td>\n",
       "    </tr>\n",
       "    <tr>\n",
       "      <th>TrainingTimesLastYear</th>\n",
       "      <td>0.033210</td>\n",
       "    </tr>\n",
       "    <tr>\n",
       "      <th>YearsSinceLastPromotion</th>\n",
       "      <td>0.031810</td>\n",
       "    </tr>\n",
       "    <tr>\n",
       "      <th>MaritalStatus</th>\n",
       "      <td>0.031313</td>\n",
       "    </tr>\n",
       "    <tr>\n",
       "      <th>JobInvolvement</th>\n",
       "      <td>0.029472</td>\n",
       "    </tr>\n",
       "    <tr>\n",
       "      <th>EducationField</th>\n",
       "      <td>0.027856</td>\n",
       "    </tr>\n",
       "    <tr>\n",
       "      <th>Education</th>\n",
       "      <td>0.026272</td>\n",
       "    </tr>\n",
       "    <tr>\n",
       "      <th>Department</th>\n",
       "      <td>0.015856</td>\n",
       "    </tr>\n",
       "    <tr>\n",
       "      <th>Gender</th>\n",
       "      <td>0.012008</td>\n",
       "    </tr>\n",
       "    <tr>\n",
       "      <th>PerformanceRating</th>\n",
       "      <td>0.007657</td>\n",
       "    </tr>\n",
       "  </tbody>\n",
       "</table>\n",
       "</div>"
      ],
      "text/plain": [
       "                         feature importance\n",
       "MonthlyIncome                      0.097897\n",
       "Age                                0.080278\n",
       "OverTime                           0.064529\n",
       "TotalWorkingYears                  0.064056\n",
       "DistanceFromHome                   0.060570\n",
       "YearsAtCompany                     0.056324\n",
       "StockOptionLevel                   0.051102\n",
       "PercentSalaryHike                  0.045011\n",
       "JobRole                            0.044123\n",
       "YearsInCurrentRole                 0.043756\n",
       "YearsWithCurrManager               0.037920\n",
       "EnvironmentSatisfaction            0.035282\n",
       "JobSatisfaction                    0.035182\n",
       "CommunicationSkill                 0.034833\n",
       "NumCompaniesWorked                 0.033685\n",
       "TrainingTimesLastYear              0.033210\n",
       "YearsSinceLastPromotion            0.031810\n",
       "MaritalStatus                      0.031313\n",
       "JobInvolvement                     0.029472\n",
       "EducationField                     0.027856\n",
       "Education                          0.026272\n",
       "Department                         0.015856\n",
       "Gender                             0.012008\n",
       "PerformanceRating                  0.007657"
      ]
     },
     "execution_count": 234,
     "metadata": {},
     "output_type": "execute_result"
    }
   ],
   "source": [
    "####### FEATURE IMPORTANCE #### ####\n",
    "# rank the importance of features\n",
    "f_impt= pd.DataFrame(RF_reg.feature_importances_,index=X_train.columns)\n",
    "f_impt = f_impt.sort_values(by=0,ascending=False)\n",
    "f_impt.columns = ['feature importance']\n",
    "f_impt"
   ]
  },
  {
   "cell_type": "code",
   "execution_count": null,
   "metadata": {},
   "outputs": [],
   "source": []
  },
  {
   "cell_type": "code",
   "execution_count": null,
   "metadata": {},
   "outputs": [],
   "source": []
  },
  {
   "cell_type": "code",
   "execution_count": null,
   "metadata": {},
   "outputs": [],
   "source": []
  },
  {
   "cell_type": "code",
   "execution_count": null,
   "metadata": {},
   "outputs": [],
   "source": [
    "dataset.to_csv('Sample_submission_Rucha_Yande_5.csv')"
   ]
  },
  {
   "cell_type": "code",
   "execution_count": null,
   "metadata": {},
   "outputs": [],
   "source": [
    "# Cross Validation\n",
    "\n",
    "from sklearn.ensemble import RandomForestRegressor\n",
    "from sklearn.pipeline import Pipeline\n",
    "from sklearn.impute import SimpleImputer\n",
    "from sklearn.model_selection import cross_val_score\n",
    "\n",
    "def get_score(n_estimators):\n",
    "    \"\"\"Return the average MAE over 3 CV folds of random forest model.\n",
    "    \n",
    "    Keyword argument:\n",
    "    n_estimators -- the number of trees in the forest\n",
    "    \"\"\"\n",
    "    # Replace this body with your own code\n",
    "    my_pipeline = Pipeline(steps=[('model', RandomForestClassifier(n_estimators, random_state=0))])\n",
    "    scores = -1 * cross_val_score(my_pipeline, X_train_minmax, y_train,\n",
    "                              cv=10,\n",
    "                              scoring='accuracy')\n",
    "\n",
    "    return scores.mean()\n",
    "\n",
    "results = {}\n",
    "for i in range(1,8):\n",
    "    results[50*i] = get_score(50*i)\n",
    "\n",
    "import matplotlib.pyplot as plt\n",
    "%matplotlib inline\n",
    "\n",
    "plt.plot(list(results.keys()), list(results.values()))\n",
    "plt.show()"
   ]
  },
  {
   "cell_type": "code",
   "execution_count": null,
   "metadata": {},
   "outputs": [],
   "source": []
  }
 ],
 "metadata": {
  "kernelspec": {
   "display_name": "Python 3",
   "language": "python",
   "name": "python3"
  },
  "language_info": {
   "codemirror_mode": {
    "name": "ipython",
    "version": 3
   },
   "file_extension": ".py",
   "mimetype": "text/x-python",
   "name": "python",
   "nbconvert_exporter": "python",
   "pygments_lexer": "ipython3",
   "version": "3.7.6"
  }
 },
 "nbformat": 4,
 "nbformat_minor": 4
}
